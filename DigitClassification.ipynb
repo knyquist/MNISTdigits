{
 "metadata": {
  "name": ""
 },
 "nbformat": 3,
 "nbformat_minor": 0,
 "worksheets": [
  {
   "cells": [
    {
     "cell_type": "markdown",
     "metadata": {},
     "source": [
      "Connect to SQL database and get the digits data"
     ]
    },
    {
     "cell_type": "code",
     "collapsed": false,
     "input": [
      "import MySQLdb\n",
      "import matplotlib.pyplot as plt\n",
      "import matplotlib.image as mpimg\n",
      "import matplotlib.cm as cm\n",
      "import numpy as np\n",
      "\n",
      "# open the connection to the MySQL server using MySQLdb\n",
      "mydb = MySQLdb.connect(host='localhost',\n",
      "                       user='root',\n",
      "                       passwd='because')\n",
      "cursor = mydb.cursor()\n",
      "# connect to the digits mySQL database\n",
      "cursor.execute(\"USE digits\");\n",
      "\n",
      "# store train and test data sets\n",
      "train = []\n",
      "test = []\n",
      "divvy = 0.9\n",
      "\n",
      "# grab all of the images from the digits training database\n",
      "cursor.execute(\"SELECT * FROM train\")\n",
      "rows = cursor.fetchall()\n",
      "\n",
      "train = rows[0:int(divvy*len(rows))]\n",
      "test = rows[int(divvy*len(rows)):len(rows)]\n"
     ],
     "language": "python",
     "metadata": {},
     "outputs": [],
     "prompt_number": 1
    },
    {
     "cell_type": "markdown",
     "metadata": {},
     "source": [
      "Construct KNN classifier"
     ]
    },
    {
     "cell_type": "code",
     "collapsed": false,
     "input": [
      "# dump the data into a numpy array, separate into features and targets\n",
      "train = np.array(train)\n",
      "features = np.delete(train,np.s_[0],axis=1)\n",
      "targets = np.ravel(np.delete(train,np.s_[1:],axis=1))"
     ],
     "language": "python",
     "metadata": {},
     "outputs": [],
     "prompt_number": 2
    },
    {
     "cell_type": "code",
     "collapsed": false,
     "input": [
      "from sklearn.neighbors import KNeighborsClassifier\n",
      "\n",
      "clsfr = KNeighborsClassifier(n_neighbors=1, algorithm='brute')\n",
      "clsfr.fit(features, targets)"
     ],
     "language": "python",
     "metadata": {},
     "outputs": [
      {
       "metadata": {},
       "output_type": "pyout",
       "prompt_number": 3,
       "text": [
        "KNeighborsClassifier(algorithm='brute', leaf_size=30, metric='minkowski',\n",
        "           n_neighbors=1, p=2, weights='uniform')"
       ]
      }
     ],
     "prompt_number": 3
    },
    {
     "cell_type": "code",
     "collapsed": false,
     "input": [
      "# make predictions using test set, compare to truth\n",
      "test = np.array(test)\n",
      "\n",
      "test_truth = np.ravel(np.delete(test,np.s_[1:],axis=1))\n",
      "test_features = np.delete(test,np.s_[0],axis=1)\n",
      "\n"
     ],
     "language": "python",
     "metadata": {},
     "outputs": [],
     "prompt_number": 5
    },
    {
     "cell_type": "markdown",
     "metadata": {},
     "source": [
      "Use classifier to predict digits from test set"
     ]
    },
    {
     "cell_type": "code",
     "collapsed": false,
     "input": [
      "test_predict = clsfr.predict(test_features)"
     ],
     "language": "python",
     "metadata": {},
     "outputs": [],
     "prompt_number": 7
    },
    {
     "cell_type": "markdown",
     "metadata": {},
     "source": [
      "View confusion matrix"
     ]
    },
    {
     "cell_type": "code",
     "collapsed": false,
     "input": [
      "# compute confusion matrix\n",
      "from sklearn.metrics import confusion_matrix\n",
      "\n",
      "cm = confusion_matrix(test_truth,test_predict)\n",
      "\n",
      "# plot it pretty. This script is taken from \"Building Machine Learning Systems with Python\"\n",
      "def plot_confusion_matrix(cm):\n",
      "    pylab.clf()\n",
      "    pylab.matshow(cm, fignum=False, cmap='Blues')\n",
      "    ax = pylab.axes()\n",
      "    ax.set_xticks(range(10))\n",
      "    ax.set_xticklabels(['0','1','2','3','4','5','6','7','8','9'])\n",
      "    ax.xaxis.set_ticks_position(\"bottom\")\n",
      "    ax.set_yticks(range(10))\n",
      "    ax.set_yticklabels(['0','1','2','3','4','5','6','7','8','9'])\n",
      "    pylab.title('Confusion matrix of digit recognition')\n",
      "    pylab.colorbar()\n",
      "    pylab.grid(False)\n",
      "    pylab.xlabel('Predicted digit')\n",
      "    pylab.ylabel('True digit')\n",
      "    pylab.grid(False)\n",
      "    pylab.show()\n",
      "    \n",
      "plot_confusion_matrix(cm)"
     ],
     "language": "python",
     "metadata": {},
     "outputs": [
      {
       "metadata": {},
       "output_type": "display_data",
       "png": "[encoded data removed]",
       "text": [
        "<matplotlib.figure.Figure at 0x7fafceb0b290>"
       ]
      }
     ],
     "prompt_number": 16
    },
    {
     "cell_type": "code",
     "collapsed": false,
     "input": [
      "print 'Confusion Matrix numbers are:'\n",
      "print cm\n",
      "\n",
      "# sum the diagonal and sum the entire matrix\n",
      "diagonal = 0.; total = 0.; cnt = 0\n",
      "for x in cm:\n",
      "    diagonal += x[cnt]; cnt+=1\n",
      "    total += sum(x)\n",
      "\n",
      "# overall prediction accuracy\n",
      "tot_acc = diagonal/total\n",
      "\n",
      "# prediction accuracy of individual digits\n",
      "pred_acc = []; cnt = 0\n",
      "for n in [0,1,2,3,4,5,6,7,8,9]:\n",
      "    pred_acc.append(float(cm[cnt][cnt])); cnt+=1\n",
      "\n",
      "# output results!\n",
      "print('Overall prediction accuracy is: %.2f' % tot_acc)\n",
      "print('Prediction accuracy (user accuracy): ')\n",
      "for n in [0,1,2,3,4,5,6,7,8,9]:\n",
      "    print('   %.0f%% of digits predicted to be ' % (100*np.divide(np.array(pred_acc),cm.sum(axis=0))[n])\n",
      "          + str(n) + ' were actually ' + str(n) )\n",
      "\n",
      "print('Recognition accuracy (producer accuracy): ')\n",
      "for n in [0,1,2,3,4,5,6,7,8,9]:\n",
      "    print('   %.0f%% of digits that were ' % (100*np.divide(np.array(pred_acc),cm.sum(axis=1))[n])\n",
      "          + str(n) + ' were predicted to be ' + str(n) )\n"
     ],
     "language": "python",
     "metadata": {},
     "outputs": [
      {
       "output_type": "stream",
       "stream": "stdout",
       "text": [
        "Confusion Matrix numbers are:\n",
        "[[452   0   0   0   0   1   2   0   0   0]\n",
        " [  0 456   0   0   0   0   1   1   0   0]\n",
        " [  4   1 373   1   1   0   0  10   1   1]\n",
        " [  1   1   3 429   0   9   0   1   3   1]\n",
        " [  0   1   0   0 429   0   2   1   0   5]\n",
        " [  0   1   0   2   0 347   2   0   0   2]\n",
        " [  2   0   0   0   1   2 408   0   0   0]\n",
        " [  0   3   3   1   2   0   0 409   0   3]\n",
        " [  1  13   1   3   2   5   2   1 363   6]\n",
        " [  3   0   1   0   8   2   0   6   1 403]]\n",
        "Overall prediction accuracy is: 0.97\n",
        "Prediction accuracy (user accuracy): \n",
        "   98% of digits predicted to be 0 were actually 0\n",
        "   96% of digits predicted to be 1 were actually 1\n",
        "   98% of digits predicted to be 2 were actually 2\n",
        "   98% of digits predicted to be 3 were actually 3\n",
        "   97% of digits predicted to be 4 were actually 4\n",
        "   95% of digits predicted to be 5 were actually 5\n",
        "   98% of digits predicted to be 6 were actually 6\n",
        "   95% of digits predicted to be 7 were actually 7\n",
        "   99% of digits predicted to be 8 were actually 8\n",
        "   96% of digits predicted to be 9 were actually 9\n",
        "Recognition accuracy (producer accuracy): \n",
        "   99% of digits that were 0 were predicted to be 0\n",
        "   100% of digits that were 1 were predicted to be 1\n",
        "   95% of digits that were 2 were predicted to be 2\n",
        "   96% of digits that were 3 were predicted to be 3\n",
        "   98% of digits that were 4 were predicted to be 4\n",
        "   98% of digits that were 5 were predicted to be 5\n",
        "   99% of digits that were 6 were predicted to be 6\n",
        "   97% of digits that were 7 were predicted to be 7\n",
        "   91% of digits that were 8 were predicted to be 8\n",
        "   95% of digits that were 9 were predicted to be 9\n"
       ]
      }
     ],
     "prompt_number": 17
    },
    {
     "cell_type": "code",
     "collapsed": false,
     "input": [],
     "language": "python",
     "metadata": {},
     "outputs": []
    }
   ],
   "metadata": {}
  }
 ]
}