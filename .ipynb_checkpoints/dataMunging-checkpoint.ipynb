{
 "metadata": {
  "name": ""
 },
 "nbformat": 3,
 "nbformat_minor": 0,
 "worksheets": [
  {
   "cells": [
    {
     "cell_type": "markdown",
     "metadata": {},
     "source": [
      "Connect to mySQL server and open 'digits' database"
     ]
    },
    {
     "cell_type": "code",
     "collapsed": false,
     "input": [
      "import MySQLdb\n",
      "\n",
      "# open the connection to the MySQL server using MySQLdb\n",
      "mydb = MySQLdb.connect(host='localhost',\n",
      "                       user='root',\n",
      "                       passwd='because')\n",
      "cursor = mydb.cursor()\n",
      "# connect to the digits mySQL database\n",
      "cursor.execute(\"USE digits\");"
     ],
     "language": "python",
     "metadata": {},
     "outputs": [],
     "prompt_number": 1
    },
    {
     "cell_type": "markdown",
     "metadata": {},
     "source": [
      "Plot representative numbers by summing up all images from single number"
     ]
    },
    {
     "cell_type": "code",
     "collapsed": false,
     "input": [
      "import matplotlib.pyplot as plt\n",
      "import matplotlib.image as mpimg\n",
      "import matplotlib.cm as cm\n",
      "import numpy as np\n",
      "\n",
      "# store class average data\n",
      "cls_avg = {}\n",
      "\n",
      "# show images of all number class averages\n",
      "figure(1)\n",
      "sp_numcols = 4 # number of columns in figure\n",
      "sp_row = 1 # subplot row\n",
      "sp_col = 1 # subplot column\n",
      "\n",
      "for number in range(0,10):\n",
      "    \n",
      "    # select particular number to generate class average\n",
      "    cursor.execute(\"SELECT * FROM train WHERE label = \" + str(number))\n",
      "    rows = cursor.fetchall()\n",
      "    \n",
      "    # sum all examples of number\n",
      "    num = [0]*len(rows[0])\n",
      "    for row in rows:\n",
      "        for j in range(len(row)):\n",
      "            num[j] += int(row[j])\n",
      "    \n",
      "    cls_avg[str(number)] = num\n",
      "    \n",
      "    # first item is the sum of the labels, remove for image conversion        \n",
      "    num.pop(0);\n",
      "    \n",
      "    # convert the num list into 28X28 array for display\n",
      "    surf = np.zeros((28,28))\n",
      "    for i in range(0,28):\n",
      "        for j in range(0,28):\n",
      "            surf[i][j] = num[i*28+j];\n",
      "            \n",
      "    # display the class-averaged number\n",
      "        \n",
      "    plt.subplot(3,4,number+1)\n",
      "    plt.imshow(surf, cmap = cm.Greys_r, interpolation='nearest');\n",
      "    sp_col += 1\n",
      "    if ((number+1) % sp_numcols) == 0:\n",
      "        sp_row += 1 # move down to next row\n",
      "        sp_col = 1 # column resets\n",
      "\n",
      "# plt.savefig(\"digit_classaverage.png\",bbox_inches='tight')\n"
     ],
     "language": "python",
     "metadata": {},
     "outputs": [
      {
       "metadata": {},
       "output_type": "display_data",
       "png": "[encoded data removed]",
       "text": [
        "<matplotlib.figure.Figure at 0x7f8cc8795c50>"
       ]
      }
     ],
     "prompt_number": 34
    },
    {
     "cell_type": "code",
     "collapsed": false,
     "input": [],
     "language": "python",
     "metadata": {},
     "outputs": [
      {
       "output_type": "stream",
       "stream": "stdout",
       "text": [
        "[0, 0, 0, 0, 0, 0, 0, 0, 0, 0, 0, 0, 0, 0, 0, 0, 0, 0, 0, 0, 0, 0, 0, 0, 0, 0, 0, 0, 0, 0, 0, 0, 0, 0, 0, 0, 0, 0, 0, 0, 0, 0, 0, 0, 0, 0, 0, 0, 0, 0, 0, 0, 0, 0, 0, 0, 0, 0, 0, 0, 0, 0, 0, 0, 0, 0, 114, 307, 366, 131, 178, 306, 460, 444, 245, 76, 9, 0, 0, 0, 0, 0, 0, 0, 0, 0, 0, 0, 8, 888, 1232, 2073, 3995, 6789, 11732, 19001, 25271, 27909, 28376, 25886, 21908, 18050, 12916, 8141, 4954, 1707, 316, 0, 0, 0, 0, 0, 0, 38, 51, 83, 1315, 6204, 14566, 33184, 63645, 105820, 158607, 214764, 258185, 283580, 283650, 264207, 219866, 166304, 113948, 70050, 33731, 13474, 4297, 309, 0, 0, 0, 0, 0, 0, 17, 929, 9838, 30819, 65683, 120896, 203371, 313067, 431632, 542048, 629531, 688643, 698716, 667425, 590092, 471153, 339819, 222520, 127477, 56548, 16793, 3171, 172, 0, 0, 0, 0, 4, 396, 6802, 27408, 66335, 129465, 224497, 349417, 481414, 600685, 689812, 754071, 798428, 824999, 822728, 779303, 673802, 530623, 371232, 231575, 118847, 39593, 7628, 747, 0, 0, 0, 0, 235, 712, 11776, 43032, 90143, 165251, 261836, 369222, 467265, 534957, 574155, 594247, 613538, 644351, 688666, 714879, 688055, 588872, 445003, 293789, 155909, 58363, 11852, 1180, 0, 0, 0, 0, 220, 844, 14514, 47280, 88404, 149432, 214885, 275980, 326199, 349363, 349544, 344393, 357975, 410076, 505540, 595471, 634256, 584941, 457916, 301122, 161599, 63017, 11724, 609, 0, 0, 0, 0, 211, 898, 11767, 32831, 60193, 98453, 132928, 159316, 173614, 178674, 179615, 192338, 235259, 335371, 472611, 591256, 635043, 569996, 425808, 265369, 132692, 49790, 8629, 71, 62, 0, 0, 0, 105, 444, 9121, 19525, 32828, 49970, 65156, 78896, 89778, 109840, 145892, 212375, 318645, 459940, 594949, 680585, 652993, 527725, 350510, 195005, 86330, 27648, 5017, 62, 185, 0, 0, 0, 77, 300, 5931, 11185, 17613, 25157, 34582, 54370, 93873, 165477, 271038, 404834, 550700, 682824, 765510, 756276, 642743, 451844, 264261, 130261, 46964, 11829, 1869, 15, 201, 0, 0, 0, 13, 56, 2421, 5375, 10250, 16701, 34994, 78324, 170918, 316292, 491563, 655000, 787519, 859985, 862309, 792258, 629970, 419602, 233087, 103227, 35210, 9224, 1206, 152, 212, 0, 0, 0, 0, 0, 472, 2259, 6406, 16444, 44628, 118104, 253574, 445045, 635136, 776905, 848603, 860945, 830285, 770649, 650708, 482376, 293042, 142979, 56816, 16402, 2751, 429, 105, 0, 0, 0, 0, 13, 164, 2340, 7270, 16375, 48603, 130605, 266325, 431820, 576291, 661597, 689246, 686774, 676218, 676498, 662414, 575583, 410133, 234721, 108397, 36400, 8081, 694, 41, 0, 0, 0, 0, 693, 1780, 6401, 11885, 19551, 43551, 99041, 193640, 299970, 378226, 415756, 423999, 428040, 454477, 517750, 604585, 617724, 513194, 331545, 168182, 69119, 17676, 1861, 0, 117, 0, 0, 0, 2069, 7108, 16715, 23261, 29027, 43953, 69499, 109702, 145957, 172882, 182002, 187485, 210750, 269106, 381442, 532590, 621171, 563914, 393810, 219200, 96477, 29280, 3242, 0, 0, 0, 0, 71, 3266, 16462, 35096, 45841, 54399, 61360, 67294, 65918, 67447, 69197, 70769, 78463, 106189, 185469, 322718, 500775, 613925, 574314, 412350, 246584, 116256, 37220, 3704, 0, 0, 0, 0, 56, 5672, 30214, 64888, 90946, 108071, 113851, 106563, 85240, 68509, 56812, 51221, 60886, 100227, 203759, 364241, 530758, 622224, 566632, 407415, 248638, 121026, 36315, 3524, 0, 0, 0, 0, 148, 9003, 44332, 95676, 148884, 189927, 206131, 198104, 169634, 136571, 109221, 102578, 125851, 196003, 321772, 482772, 612293, 635753, 540482, 377327, 225502, 103954, 27239, 2418, 21, 0, 0, 0, 349, 11093, 54459, 119715, 195950, 267234, 324385, 346918, 329516, 290882, 265735, 263589, 308680, 401384, 521971, 637992, 681199, 624202, 477914, 313463, 173861, 69110, 16394, 1209, 21, 0, 0, 0, 287, 9135, 48221, 113105, 201792, 314398, 421548, 506791, 540668, 540962, 538253, 551658, 597075, 661194, 722756, 734619, 669245, 533066, 360608, 213601, 101297, 33569, 6350, 282, 0, 0, 0, 0, 4, 5797, 31639, 82288, 160441, 276915, 411399, 550324, 660230, 728171, 770472, 795274, 807861, 799960, 754112, 656626, 515609, 352035, 209008, 108635, 42597, 12591, 1764, 0, 0, 5, 0, 0, 0, 2396, 15263, 44296, 92202, 168333, 278401, 409620, 533422, 638151, 710914, 736030, 716213, 636985, 522899, 390022, 264596, 160803, 83853, 35002, 12097, 2842, 313, 0, 0, 81, 0, 0, 0, 653, 4892, 14739, 32365, 62449, 105453, 159986, 218841, 271660, 310894, 319053, 300788, 252551, 190994, 131869, 81455, 41571, 18804, 7389, 2418, 699, 136, 0, 0, 0, 0, 0, 0, 58, 218, 1847, 3986, 7346, 12116, 19386, 25644, 32393, 35263, 36708, 34747, 28941, 23081, 16431, 10357, 5702, 2875, 1038, 335, 166, 0, 0, 0, 0, 0, 0, 0, 0, 0, 16, 62, 132, 442, 411, 420, 611, 810, 1116, 916, 902, 1173, 1924, 1700, 1004, 588, 328, 253, 45, 0, 0, 0, 0, 0, 0, 0, 0, 0, 0, 0, 0, 0, 0, 0, 0, 0, 0, 0, 0, 0, 0, 0, 0, 0, 0, 0, 0, 0, 0, 0, 0, 0]\n"
       ]
      }
     ],
     "prompt_number": 38
    },
    {
     "cell_type": "markdown",
     "metadata": {},
     "source": [
      "Dummy example to illustrate format of plt.imshow()"
     ]
    },
    {
     "cell_type": "code",
     "collapsed": false,
     "input": [
      "check = np.zeros((9, 9))\n",
      "check[::2, 1::2] = 1\n",
      "check[1::2, ::2] = 1\n",
      "print check\n",
      "#plt.imshow(check,interpolation='nearest')"
     ],
     "language": "python",
     "metadata": {},
     "outputs": [
      {
       "output_type": "stream",
       "stream": "stdout",
       "text": [
        "[[ 0.  1.  0.  1.  0.  1.  0.  1.  0.]\n",
        " [ 1.  0.  1.  0.  1.  0.  1.  0.  1.]\n",
        " [ 0.  1.  0.  1.  0.  1.  0.  1.  0.]\n",
        " [ 1.  0.  1.  0.  1.  0.  1.  0.  1.]\n",
        " [ 0.  1.  0.  1.  0.  1.  0.  1.  0.]\n",
        " [ 1.  0.  1.  0.  1.  0.  1.  0.  1.]\n",
        " [ 0.  1.  0.  1.  0.  1.  0.  1.  0.]\n",
        " [ 1.  0.  1.  0.  1.  0.  1.  0.  1.]\n",
        " [ 0.  1.  0.  1.  0.  1.  0.  1.  0.]]\n"
       ]
      }
     ],
     "prompt_number": 52
    },
    {
     "cell_type": "code",
     "collapsed": false,
     "input": [
      "print(int(str(1)+str(2)+str(3)))"
     ],
     "language": "python",
     "metadata": {},
     "outputs": [
      {
       "output_type": "stream",
       "stream": "stdout",
       "text": [
        "123\n"
       ]
      }
     ],
     "prompt_number": 8
    },
    {
     "cell_type": "code",
     "collapsed": false,
     "input": [],
     "language": "python",
     "metadata": {},
     "outputs": []
    }
   ],
   "metadata": {}
  }
 ]
}