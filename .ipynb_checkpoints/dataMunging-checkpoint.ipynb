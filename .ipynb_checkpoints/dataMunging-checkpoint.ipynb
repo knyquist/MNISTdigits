{
 "metadata": {
  "name": ""
 },
 "nbformat": 3,
 "nbformat_minor": 0,
 "worksheets": [
  {
   "cells": [
    {
     "cell_type": "markdown",
     "metadata": {},
     "source": [
      "Connect to mySQL server and open 'digits' database"
     ]
    },
    {
     "cell_type": "code",
     "collapsed": false,
     "input": [
      " import MySQLdb\n",
      "\n",
      "# open the connection to the MySQL server using MySQLdb\n",
      "mydb = MySQLdb.connect(host='localhost',\n",
      "                       user='root',\n",
      "                       passwd='because')\n",
      "cursor = mydb.cursor()\n",
      "# connect to the digits mySQL database\n",
      "cursor.execute(\"USE digits\");"
     ],
     "language": "python",
     "metadata": {},
     "outputs": [],
     "prompt_number": 1
    },
    {
     "cell_type": "markdown",
     "metadata": {},
     "source": [
      "Plot representative numbers by summing up all images from single number"
     ]
    },
    {
     "cell_type": "code",
     "collapsed": false,
     "input": [
      "import matplotlib.pyplot as plt\n",
      "import matplotlib.image as mpimg\n",
      "import matplotlib.cm as cm\n",
      "import numpy as np\n",
      "\n",
      "# select particular number to view class average\n",
      "number = 8\n",
      "\n",
      "cursor.execute(\"SELECT * FROM train WHERE label = \" + str(number))\n",
      "rows = cursor.fetchall()\n",
      "\n",
      "# sum all examples of number\n",
      "num = [0]*len(rows[0])\n",
      "for row in rows:\n",
      "    for j in range(len(row)):\n",
      "        num[j] += int(row[j])\n",
      "\n",
      "# first item is the sum of the labels, remove for image conversion        \n",
      "num.pop(0);\n",
      "\n",
      "# convert the num list into 28X28 array for display\n",
      "surf = np.zeros((28,28))\n",
      "for i in range(0,28):\n",
      "    for j in range(0,28):\n",
      "        surf[i][j] = num[i*28+j];\n",
      "        \n",
      "# display the class-averaged number\n",
      "plt.imshow(surf, cmap = cm.Greys_r, interpolation='nearest');"
     ],
     "language": "python",
     "metadata": {},
     "outputs": [
      {
       "metadata": {},
       "output_type": "display_data",
       "png": "[encoded data removed]",
       "text": [
        "<matplotlib.figure.Figure at 0x7f670865eb50>"
       ]
      }
     ],
     "prompt_number": 77
    },
    {
     "cell_type": "markdown",
     "metadata": {},
     "source": [
      "Dummy example to illustrate format of plt.imshow()"
     ]
    },
    {
     "cell_type": "code",
     "collapsed": false,
     "input": [
      "check = np.zeros((9, 9))\n",
      "check[::2, 1::2] = 1\n",
      "check[1::2, ::2] = 1\n",
      "print check\n",
      "#plt.imshow(check,interpolation='nearest')"
     ],
     "language": "python",
     "metadata": {},
     "outputs": [
      {
       "output_type": "stream",
       "stream": "stdout",
       "text": [
        "[[ 0.  1.  0.  1.  0.  1.  0.  1.  0.]\n",
        " [ 1.  0.  1.  0.  1.  0.  1.  0.  1.]\n",
        " [ 0.  1.  0.  1.  0.  1.  0.  1.  0.]\n",
        " [ 1.  0.  1.  0.  1.  0.  1.  0.  1.]\n",
        " [ 0.  1.  0.  1.  0.  1.  0.  1.  0.]\n",
        " [ 1.  0.  1.  0.  1.  0.  1.  0.  1.]\n",
        " [ 0.  1.  0.  1.  0.  1.  0.  1.  0.]\n",
        " [ 1.  0.  1.  0.  1.  0.  1.  0.  1.]\n",
        " [ 0.  1.  0.  1.  0.  1.  0.  1.  0.]]\n"
       ]
      }
     ],
     "prompt_number": 52
    },
    {
     "cell_type": "code",
     "collapsed": false,
     "input": [],
     "language": "python",
     "metadata": {},
     "outputs": []
    }
   ],
   "metadata": {}
  }
 ]
}