{
 "metadata": {
  "name": "",
  "signature": "sha256:847868d05e0a9f674118f49153c9e24ed7e165d6932fc82b0244ba4c1219743c"
 },
 "nbformat": 3,
 "nbformat_minor": 0,
 "worksheets": [
  {
   "cells": [
    {
     "cell_type": "markdown",
     "metadata": {},
     "source": [
      "# Hi, I am an example"
     ]
    },
    {
     "cell_type": "code",
     "collapsed": false,
     "input": [
      "for i in range(100):\n",
      "    print(\"hi\")"
     ],
     "language": "python",
     "metadata": {},
     "outputs": [
      {
       "output_type": "stream",
       "stream": "stdout",
       "text": [
        "hi\n",
        "hi\n",
        "hi\n",
        "hi\n",
        "hi\n",
        "hi\n",
        "hi\n",
        "hi\n",
        "hi\n",
        "hi\n",
        "hi\n",
        "hi\n",
        "hi\n",
        "hi\n",
        "hi\n",
        "hi\n",
        "hi\n",
        "hi\n",
        "hi\n",
        "hi\n",
        "hi\n",
        "hi\n",
        "hi\n",
        "hi\n",
        "hi\n",
        "hi\n",
        "hi\n",
        "hi\n",
        "hi\n",
        "hi\n",
        "hi\n",
        "hi\n",
        "hi\n",
        "hi\n",
        "hi\n",
        "hi\n",
        "hi\n",
        "hi\n",
        "hi\n",
        "hi\n",
        "hi\n",
        "hi\n",
        "hi\n",
        "hi\n",
        "hi\n",
        "hi\n",
        "hi\n",
        "hi\n",
        "hi\n",
        "hi\n",
        "hi\n",
        "hi\n",
        "hi\n",
        "hi\n",
        "hi\n",
        "hi\n",
        "hi\n",
        "hi\n",
        "hi\n",
        "hi\n",
        "hi\n",
        "hi\n",
        "hi\n",
        "hi\n",
        "hi\n",
        "hi\n",
        "hi\n",
        "hi\n",
        "hi\n",
        "hi\n",
        "hi\n",
        "hi\n",
        "hi\n",
        "hi\n",
        "hi\n",
        "hi\n",
        "hi\n",
        "hi\n",
        "hi\n",
        "hi\n",
        "hi\n",
        "hi\n",
        "hi\n",
        "hi\n",
        "hi\n",
        "hi\n",
        "hi\n",
        "hi\n",
        "hi\n",
        "hi\n",
        "hi\n",
        "hi\n",
        "hi\n",
        "hi\n",
        "hi\n",
        "hi\n",
        "hi\n",
        "hi\n",
        "hi\n",
        "hi\n"
       ]
      }
     ],
     "prompt_number": 1
    },
    {
     "cell_type": "code",
     "collapsed": false,
     "input": [],
     "language": "python",
     "metadata": {},
     "outputs": [
      {
       "ename": "ImportError",
       "evalue": "No module named matplotlib",
       "output_type": "pyerr",
       "traceback": [
        "\u001b[0;31m---------------------------------------------------------------------------\u001b[0m\n\u001b[0;31mImportError\u001b[0m                               Traceback (most recent call last)",
        "\u001b[0;32m<ipython-input-2-5a60ce7fde0b>\u001b[0m in \u001b[0;36m<module>\u001b[0;34m()\u001b[0m\n\u001b[0;32m----> 1\u001b[0;31m \u001b[0;32mimport\u001b[0m \u001b[0mmatplotlib\u001b[0m\u001b[0;34m\u001b[0m\u001b[0m\n\u001b[0m\u001b[1;32m      2\u001b[0m \u001b[0mplot\u001b[0m\u001b[0;34m(\u001b[0m\u001b[0;36m1\u001b[0m\u001b[0;34m,\u001b[0m\u001b[0;36m1\u001b[0m\u001b[0;34m)\u001b[0m\u001b[0;34m\u001b[0m\u001b[0m\n",
        "\u001b[0;31mImportError\u001b[0m: No module named matplotlib"
       ]
      }
     ],
     "prompt_number": 2
    },
    {
     "cell_type": "code",
     "collapsed": false,
     "input": [],
     "language": "python",
     "metadata": {},
     "outputs": []
    }
   ],
   "metadata": {}
  }
 ]
}